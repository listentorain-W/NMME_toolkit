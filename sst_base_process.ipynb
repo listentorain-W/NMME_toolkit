{
 "cells": [
  {
   "cell_type": "code",
   "execution_count": 1,
   "metadata": {},
   "outputs": [],
   "source": [
    "import os\n",
    "import pathlib as pl\n"
   ]
  },
  {
   "cell_type": "code",
   "execution_count": null,
   "metadata": {},
   "outputs": [],
   "source": [
    "\n",
    "# data_list['file_name'] = data_list['NAME'] + '_' + data_list['download_num'].astype(str) + '.nc'\n",
    "\n",
    "sst_ = sst.mean(dim = 'member')\n",
    "sst_ = rm_annual_cycle(sst_)\n",
    "ssta_filt = sst_.copy()\n",
    "\n",
    "for i in sst.coords['lead_time']:\n",
    "    sst_filt = single_layer_filter(sst_.sel(lead_time = i), \n",
    "                                   filter_mode=True, \n",
    "                                   filter_type='lowpass')\n",
    "    ssta_filt.loc[dict(lead_time = i)] = sst_filt.data"
   ]
  },
  {
   "cell_type": "code",
   "execution_count": null,
   "metadata": {},
   "outputs": [],
   "source": [
    "import cartopy.crs as ccrs\n",
    "from cartopy.mpl.geoaxes import GeoAxes\n",
    "from cartopy.mpl.ticker import LongitudeFormatter, LatitudeFormatter\n",
    "import matplotlib.pyplot as plt\n",
    "from mpl_toolkits.axes_grid1 import AxesGrid\n",
    "import numpy as np\n",
    "\n",
    "%matplotlib inline\n",
    "%config InlineBackend.figure_format = 'retina'\n",
    "plt.rcParams['xtick.direction'] = 'in'\n",
    "plt.rcParams['ytick.direction'] = 'in'\n",
    "plt.rcParams['axes.unicode_minus'] = False\n",
    "plt.rcParams.update({'font.size': 16})\n",
    "# sns.set_theme(style=\"white\")\n",
    "\n",
    "clevs = np.linspace(-0, 30, 21)\n",
    "projection = ccrs.PlateCarree(central_longitude=180)\n",
    "\n",
    "fig = plt.figure(figsize=(10, 10), dpi = 100)\n",
    "ax = fig.add_subplot(projection = projection)\n",
    "ax.set_title(f' ', loc = 'left', fontsize = 18, fontweight = 'bold')\n",
    "ax.set_xticks(np.linspace(-180, 180, 10), crs=projection)\n",
    "ax.set_yticks(np.linspace(-90, 90, 10), crs=projection)\n",
    "lon_formatter = LongitudeFormatter(zero_direction_label=True)\n",
    "lat_formatter = LatitudeFormatter()\n",
    "ax.xaxis.set_major_formatter(lon_formatter)\n",
    "ax.yaxis.set_major_formatter(lat_formatter)\n",
    "\n",
    "cs = sst['sst'][1, 0,0, ...].plot.contourf(ax = ax,\n",
    "                           cmap = plt.cm.RdBu_r,\n",
    "                           add_colorbar = False,\n",
    "                           transform=ccrs.PlateCarree(),\n",
    "                           levels = clevs,\n",
    "                           add_labels = False  # 用来消除没用的标题和轴名称\n",
    "                           )\n",
    "\n",
    "#                      [left, bottom, width, height]\n",
    "cbar_ax = fig.add_axes([0.16, 0.18,   0.70,  0.03])\n",
    "cb = plt.colorbar(cs, orientation='horizontal', cax = cbar_ax)\n",
    "cb.set_label('correlation coefficient', fontsize=12)\n",
    "ax.coastlines()"
   ]
  }
 ],
 "metadata": {
  "kernelspec": {
   "display_name": "Python [conda env:.conda-ncar]",
   "language": "python",
   "name": "conda-env-.conda-ncar-py"
  },
  "language_info": {
   "codemirror_mode": {
    "name": "ipython",
    "version": 3
   },
   "file_extension": ".py",
   "mimetype": "text/x-python",
   "name": "python",
   "nbconvert_exporter": "python",
   "pygments_lexer": "ipython3",
   "version": "3.7.3"
  }
 },
 "nbformat": 4,
 "nbformat_minor": 4
}
